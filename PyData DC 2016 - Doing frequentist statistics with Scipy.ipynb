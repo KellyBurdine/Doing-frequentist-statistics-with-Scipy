{
 "cells": [
  {
   "cell_type": "markdown",
   "metadata": {},
   "source": [
    "# Doing frequentist statistics with Scipy  \n",
    "  \n",
    "### PyData DC 2016  \n",
    "  \n",
    "*Gustavo A. Patino*  \n",
    "*Department of Biomedical Sciences*  \n",
    "*Department of Neurology*  \n",
    "*Oakland University William Beaumont School of Medicine*  \n",
    "*Rochester, MI*  \n",
    "  \n",
    "patino@oakland.edu  \n",
    "https://github.com/gapatino/Doing-frequentist-statistics-with-Scipy"
   ]
  },
  {
   "cell_type": "markdown",
   "metadata": {},
   "source": [
    "**Iris Dataset:**  \n",
    "Fisher RA. The use of multiple measurements in taxonomic problems. *Annals of Eugenics* 1936; 7 (2): 179–188\n",
    "\n",
    "https://github.com/gapatino/Doing-frequentist-statistics-with-Scipy"
   ]
  },
  {
   "cell_type": "code",
   "execution_count": 1,
   "metadata": {
    "collapsed": true
   },
   "outputs": [],
   "source": [
    "import numpy as np\n",
    "from scipy import stats\n",
    "import pandas as pd\n",
    "\n",
    "from tkinter import filedialog\n",
    "\n",
    "%matplotlib inline\n",
    "import matplotlib.pyplot as plt\n",
    "import seaborn as sns\n",
    "sns.set()"
   ]
  },
  {
   "cell_type": "code",
   "execution_count": 2,
   "metadata": {
    "collapsed": false
   },
   "outputs": [
    {
     "name": "stdout",
     "output_type": "stream",
     "text": [
      "/Users/patino/Documents/Presentations/PyData/PyData DC 2016/frequentist statistics/iris_dataset.csv\n"
     ]
    }
   ],
   "source": [
    "# Use file browser to find name and path of the CSV file that contains the dataset\n",
    "data_file = filedialog.askopenfilename()\n",
    "print(data_file)"
   ]
  },
  {
   "cell_type": "markdown",
   "metadata": {},
   "source": [
    "  "
   ]
  },
  {
   "cell_type": "markdown",
   "metadata": {},
   "source": [
    "**Loading the dataset**"
   ]
  },
  {
   "cell_type": "code",
   "execution_count": 3,
   "metadata": {
    "collapsed": false
   },
   "outputs": [
    {
     "data": {
      "text/plain": [
       "(150, 5)"
      ]
     },
     "execution_count": 3,
     "metadata": {},
     "output_type": "execute_result"
    }
   ],
   "source": [
    "dataset = pd.read_csv(data_file, sep=',', na_values=[\".\",\" \",\"na\"]) # Can use lists for possible missing values\n",
    "dataset.shape"
   ]
  },
  {
   "cell_type": "code",
   "execution_count": 4,
   "metadata": {
    "collapsed": false
   },
   "outputs": [
    {
     "data": {
      "text/plain": [
       "Index(['Type', 'Petal_Width', 'Petal_Length', 'Sepal_Width', 'Sepal_Length'], dtype='object')"
      ]
     },
     "execution_count": 4,
     "metadata": {},
     "output_type": "execute_result"
    }
   ],
   "source": [
    "dataset.columns"
   ]
  },
  {
   "cell_type": "code",
   "execution_count": 15,
   "metadata": {
    "collapsed": false,
    "scrolled": true
   },
   "outputs": [
    {
     "data": {
      "text/html": [
       "<div>\n",
       "<table border=\"1\" class=\"dataframe\">\n",
       "  <thead>\n",
       "    <tr style=\"text-align: right;\">\n",
       "      <th></th>\n",
       "      <th>Type</th>\n",
       "      <th>Petal_Width</th>\n",
       "      <th>Petal_Length</th>\n",
       "      <th>Sepal_Width</th>\n",
       "      <th>Sepal_Length</th>\n",
       "    </tr>\n",
       "  </thead>\n",
       "  <tbody>\n",
       "    <tr>\n",
       "      <th>0</th>\n",
       "      <td>setosa</td>\n",
       "      <td>2</td>\n",
       "      <td>14</td>\n",
       "      <td>33</td>\n",
       "      <td>50</td>\n",
       "    </tr>\n",
       "    <tr>\n",
       "      <th>1</th>\n",
       "      <td>virginica</td>\n",
       "      <td>24</td>\n",
       "      <td>56</td>\n",
       "      <td>31</td>\n",
       "      <td>67</td>\n",
       "    </tr>\n",
       "    <tr>\n",
       "      <th>2</th>\n",
       "      <td>virginica</td>\n",
       "      <td>23</td>\n",
       "      <td>51</td>\n",
       "      <td>31</td>\n",
       "      <td>69</td>\n",
       "    </tr>\n",
       "    <tr>\n",
       "      <th>3</th>\n",
       "      <td>setosa</td>\n",
       "      <td>2</td>\n",
       "      <td>10</td>\n",
       "      <td>36</td>\n",
       "      <td>46</td>\n",
       "    </tr>\n",
       "    <tr>\n",
       "      <th>4</th>\n",
       "      <td>virginica</td>\n",
       "      <td>20</td>\n",
       "      <td>52</td>\n",
       "      <td>30</td>\n",
       "      <td>65</td>\n",
       "    </tr>\n",
       "    <tr>\n",
       "      <th>5</th>\n",
       "      <td>virginica</td>\n",
       "      <td>19</td>\n",
       "      <td>51</td>\n",
       "      <td>27</td>\n",
       "      <td>58</td>\n",
       "    </tr>\n",
       "    <tr>\n",
       "      <th>6</th>\n",
       "      <td>versicolor</td>\n",
       "      <td>13</td>\n",
       "      <td>45</td>\n",
       "      <td>28</td>\n",
       "      <td>57</td>\n",
       "    </tr>\n",
       "    <tr>\n",
       "      <th>7</th>\n",
       "      <td>versicolor</td>\n",
       "      <td>16</td>\n",
       "      <td>47</td>\n",
       "      <td>33</td>\n",
       "      <td>63</td>\n",
       "    </tr>\n",
       "    <tr>\n",
       "      <th>8</th>\n",
       "      <td>virginica</td>\n",
       "      <td>17</td>\n",
       "      <td>45</td>\n",
       "      <td>25</td>\n",
       "      <td>49</td>\n",
       "    </tr>\n",
       "    <tr>\n",
       "      <th>9</th>\n",
       "      <td>versicolor</td>\n",
       "      <td>14</td>\n",
       "      <td>47</td>\n",
       "      <td>32</td>\n",
       "      <td>70</td>\n",
       "    </tr>\n",
       "  </tbody>\n",
       "</table>\n",
       "</div>"
      ],
      "text/plain": [
       "         Type  Petal_Width  Petal_Length  Sepal_Width  Sepal_Length\n",
       "0      setosa            2            14           33            50\n",
       "1   virginica           24            56           31            67\n",
       "2   virginica           23            51           31            69\n",
       "3      setosa            2            10           36            46\n",
       "4   virginica           20            52           30            65\n",
       "5   virginica           19            51           27            58\n",
       "6  versicolor           13            45           28            57\n",
       "7  versicolor           16            47           33            63\n",
       "8   virginica           17            45           25            49\n",
       "9  versicolor           14            47           32            70"
      ]
     },
     "execution_count": 15,
     "metadata": {},
     "output_type": "execute_result"
    }
   ],
   "source": [
    "dataset.head(n=10)"
   ]
  },
  {
   "cell_type": "markdown",
   "metadata": {},
   "source": [
    "  "
   ]
  },
  {
   "cell_type": "markdown",
   "metadata": {},
   "source": [
    "**Exploratory analysis**"
   ]
  },
  {
   "cell_type": "code",
   "execution_count": 6,
   "metadata": {
    "collapsed": false
   },
   "outputs": [
    {
     "data": {
      "text/html": [
       "<div>\n",
       "<table border=\"1\" class=\"dataframe\">\n",
       "  <thead>\n",
       "    <tr style=\"text-align: right;\">\n",
       "      <th></th>\n",
       "      <th>Type</th>\n",
       "      <th>Petal_Width</th>\n",
       "      <th>Petal_Length</th>\n",
       "      <th>Sepal_Width</th>\n",
       "      <th>Sepal_Length</th>\n",
       "    </tr>\n",
       "  </thead>\n",
       "  <tbody>\n",
       "    <tr>\n",
       "      <th>count</th>\n",
       "      <td>150</td>\n",
       "      <td>150.000000</td>\n",
       "      <td>150.000000</td>\n",
       "      <td>150.000000</td>\n",
       "      <td>150.000000</td>\n",
       "    </tr>\n",
       "    <tr>\n",
       "      <th>unique</th>\n",
       "      <td>3</td>\n",
       "      <td>NaN</td>\n",
       "      <td>NaN</td>\n",
       "      <td>NaN</td>\n",
       "      <td>NaN</td>\n",
       "    </tr>\n",
       "    <tr>\n",
       "      <th>top</th>\n",
       "      <td>versicolor</td>\n",
       "      <td>NaN</td>\n",
       "      <td>NaN</td>\n",
       "      <td>NaN</td>\n",
       "      <td>NaN</td>\n",
       "    </tr>\n",
       "    <tr>\n",
       "      <th>freq</th>\n",
       "      <td>50</td>\n",
       "      <td>NaN</td>\n",
       "      <td>NaN</td>\n",
       "      <td>NaN</td>\n",
       "      <td>NaN</td>\n",
       "    </tr>\n",
       "    <tr>\n",
       "      <th>mean</th>\n",
       "      <td>NaN</td>\n",
       "      <td>11.926667</td>\n",
       "      <td>37.786667</td>\n",
       "      <td>30.553333</td>\n",
       "      <td>58.446667</td>\n",
       "    </tr>\n",
       "    <tr>\n",
       "      <th>std</th>\n",
       "      <td>NaN</td>\n",
       "      <td>7.569008</td>\n",
       "      <td>17.776233</td>\n",
       "      <td>4.372791</td>\n",
       "      <td>8.268592</td>\n",
       "    </tr>\n",
       "    <tr>\n",
       "      <th>min</th>\n",
       "      <td>NaN</td>\n",
       "      <td>1.000000</td>\n",
       "      <td>10.000000</td>\n",
       "      <td>20.000000</td>\n",
       "      <td>43.000000</td>\n",
       "    </tr>\n",
       "    <tr>\n",
       "      <th>25%</th>\n",
       "      <td>NaN</td>\n",
       "      <td>3.000000</td>\n",
       "      <td>16.000000</td>\n",
       "      <td>28.000000</td>\n",
       "      <td>51.000000</td>\n",
       "    </tr>\n",
       "    <tr>\n",
       "      <th>50%</th>\n",
       "      <td>NaN</td>\n",
       "      <td>13.000000</td>\n",
       "      <td>44.000000</td>\n",
       "      <td>30.000000</td>\n",
       "      <td>58.000000</td>\n",
       "    </tr>\n",
       "    <tr>\n",
       "      <th>75%</th>\n",
       "      <td>NaN</td>\n",
       "      <td>18.000000</td>\n",
       "      <td>51.000000</td>\n",
       "      <td>33.000000</td>\n",
       "      <td>64.000000</td>\n",
       "    </tr>\n",
       "    <tr>\n",
       "      <th>max</th>\n",
       "      <td>NaN</td>\n",
       "      <td>25.000000</td>\n",
       "      <td>69.000000</td>\n",
       "      <td>44.000000</td>\n",
       "      <td>79.000000</td>\n",
       "    </tr>\n",
       "  </tbody>\n",
       "</table>\n",
       "</div>"
      ],
      "text/plain": [
       "              Type  Petal_Width  Petal_Length  Sepal_Width  Sepal_Length\n",
       "count          150   150.000000    150.000000   150.000000    150.000000\n",
       "unique           3          NaN           NaN          NaN           NaN\n",
       "top     versicolor          NaN           NaN          NaN           NaN\n",
       "freq            50          NaN           NaN          NaN           NaN\n",
       "mean           NaN    11.926667     37.786667    30.553333     58.446667\n",
       "std            NaN     7.569008     17.776233     4.372791      8.268592\n",
       "min            NaN     1.000000     10.000000    20.000000     43.000000\n",
       "25%            NaN     3.000000     16.000000    28.000000     51.000000\n",
       "50%            NaN    13.000000     44.000000    30.000000     58.000000\n",
       "75%            NaN    18.000000     51.000000    33.000000     64.000000\n",
       "max            NaN    25.000000     69.000000    44.000000     79.000000"
      ]
     },
     "execution_count": 6,
     "metadata": {},
     "output_type": "execute_result"
    }
   ],
   "source": [
    "dataset.describe(percentiles=[.25, .5, .75], include='all')"
   ]
  },
  {
   "cell_type": "code",
   "execution_count": 7,
   "metadata": {
    "collapsed": false
   },
   "outputs": [
    {
     "data": {
      "text/html": [
       "<div>\n",
       "<table border=\"1\" class=\"dataframe\">\n",
       "  <thead>\n",
       "    <tr style=\"text-align: right;\">\n",
       "      <th></th>\n",
       "      <th>Petal_Width</th>\n",
       "      <th>Petal_Length</th>\n",
       "      <th>Sepal_Width</th>\n",
       "      <th>Sepal_Length</th>\n",
       "    </tr>\n",
       "    <tr>\n",
       "      <th>Type</th>\n",
       "      <th></th>\n",
       "      <th></th>\n",
       "      <th></th>\n",
       "      <th></th>\n",
       "    </tr>\n",
       "  </thead>\n",
       "  <tbody>\n",
       "    <tr>\n",
       "      <th>setosa</th>\n",
       "      <td>2.46</td>\n",
       "      <td>14.62</td>\n",
       "      <td>34.28</td>\n",
       "      <td>50.10</td>\n",
       "    </tr>\n",
       "    <tr>\n",
       "      <th>versicolor</th>\n",
       "      <td>13.26</td>\n",
       "      <td>43.22</td>\n",
       "      <td>27.64</td>\n",
       "      <td>59.36</td>\n",
       "    </tr>\n",
       "    <tr>\n",
       "      <th>virginica</th>\n",
       "      <td>20.06</td>\n",
       "      <td>55.52</td>\n",
       "      <td>29.74</td>\n",
       "      <td>65.88</td>\n",
       "    </tr>\n",
       "  </tbody>\n",
       "</table>\n",
       "</div>"
      ],
      "text/plain": [
       "            Petal_Width  Petal_Length  Sepal_Width  Sepal_Length\n",
       "Type                                                            \n",
       "setosa             2.46         14.62        34.28         50.10\n",
       "versicolor        13.26         43.22        27.64         59.36\n",
       "virginica         20.06         55.52        29.74         65.88"
      ]
     },
     "execution_count": 7,
     "metadata": {},
     "output_type": "execute_result"
    }
   ],
   "source": [
    "grouped_iris = dataset.groupby('Type')\n",
    "grouped_iris.mean()"
   ]
  },
  {
   "cell_type": "code",
   "execution_count": 8,
   "metadata": {
    "collapsed": false,
    "scrolled": false
   },
   "outputs": [
    {
     "data": {
      "text/html": [
       "<div>\n",
       "<table border=\"1\" class=\"dataframe\">\n",
       "  <thead>\n",
       "    <tr style=\"text-align: right;\">\n",
       "      <th></th>\n",
       "      <th></th>\n",
       "      <th>Petal_Length</th>\n",
       "      <th>Petal_Width</th>\n",
       "      <th>Sepal_Length</th>\n",
       "      <th>Sepal_Width</th>\n",
       "    </tr>\n",
       "    <tr>\n",
       "      <th>Type</th>\n",
       "      <th></th>\n",
       "      <th></th>\n",
       "      <th></th>\n",
       "      <th></th>\n",
       "      <th></th>\n",
       "    </tr>\n",
       "  </thead>\n",
       "  <tbody>\n",
       "    <tr>\n",
       "      <th rowspan=\"8\" valign=\"top\">setosa</th>\n",
       "      <th>count</th>\n",
       "      <td>50.000000</td>\n",
       "      <td>50.000000</td>\n",
       "      <td>50.000000</td>\n",
       "      <td>50.000000</td>\n",
       "    </tr>\n",
       "    <tr>\n",
       "      <th>mean</th>\n",
       "      <td>14.620000</td>\n",
       "      <td>2.460000</td>\n",
       "      <td>50.100000</td>\n",
       "      <td>34.280000</td>\n",
       "    </tr>\n",
       "    <tr>\n",
       "      <th>std</th>\n",
       "      <td>1.736640</td>\n",
       "      <td>1.053856</td>\n",
       "      <td>3.535534</td>\n",
       "      <td>3.790644</td>\n",
       "    </tr>\n",
       "    <tr>\n",
       "      <th>min</th>\n",
       "      <td>10.000000</td>\n",
       "      <td>1.000000</td>\n",
       "      <td>43.000000</td>\n",
       "      <td>23.000000</td>\n",
       "    </tr>\n",
       "    <tr>\n",
       "      <th>25%</th>\n",
       "      <td>14.000000</td>\n",
       "      <td>2.000000</td>\n",
       "      <td>48.000000</td>\n",
       "      <td>32.000000</td>\n",
       "    </tr>\n",
       "    <tr>\n",
       "      <th>50%</th>\n",
       "      <td>15.000000</td>\n",
       "      <td>2.000000</td>\n",
       "      <td>50.000000</td>\n",
       "      <td>34.000000</td>\n",
       "    </tr>\n",
       "    <tr>\n",
       "      <th>75%</th>\n",
       "      <td>15.750000</td>\n",
       "      <td>3.000000</td>\n",
       "      <td>52.000000</td>\n",
       "      <td>36.750000</td>\n",
       "    </tr>\n",
       "    <tr>\n",
       "      <th>max</th>\n",
       "      <td>19.000000</td>\n",
       "      <td>6.000000</td>\n",
       "      <td>58.000000</td>\n",
       "      <td>44.000000</td>\n",
       "    </tr>\n",
       "    <tr>\n",
       "      <th rowspan=\"8\" valign=\"top\">versicolor</th>\n",
       "      <th>count</th>\n",
       "      <td>50.000000</td>\n",
       "      <td>50.000000</td>\n",
       "      <td>50.000000</td>\n",
       "      <td>50.000000</td>\n",
       "    </tr>\n",
       "    <tr>\n",
       "      <th>mean</th>\n",
       "      <td>43.220000</td>\n",
       "      <td>13.260000</td>\n",
       "      <td>59.360000</td>\n",
       "      <td>27.640000</td>\n",
       "    </tr>\n",
       "    <tr>\n",
       "      <th>std</th>\n",
       "      <td>5.361579</td>\n",
       "      <td>1.977527</td>\n",
       "      <td>5.161711</td>\n",
       "      <td>3.141298</td>\n",
       "    </tr>\n",
       "    <tr>\n",
       "      <th>min</th>\n",
       "      <td>30.000000</td>\n",
       "      <td>10.000000</td>\n",
       "      <td>49.000000</td>\n",
       "      <td>20.000000</td>\n",
       "    </tr>\n",
       "    <tr>\n",
       "      <th>25%</th>\n",
       "      <td>40.000000</td>\n",
       "      <td>12.000000</td>\n",
       "      <td>56.000000</td>\n",
       "      <td>25.250000</td>\n",
       "    </tr>\n",
       "    <tr>\n",
       "      <th>50%</th>\n",
       "      <td>44.000000</td>\n",
       "      <td>13.000000</td>\n",
       "      <td>59.000000</td>\n",
       "      <td>28.000000</td>\n",
       "    </tr>\n",
       "    <tr>\n",
       "      <th>75%</th>\n",
       "      <td>47.000000</td>\n",
       "      <td>15.000000</td>\n",
       "      <td>63.000000</td>\n",
       "      <td>30.000000</td>\n",
       "    </tr>\n",
       "    <tr>\n",
       "      <th>max</th>\n",
       "      <td>56.000000</td>\n",
       "      <td>18.000000</td>\n",
       "      <td>70.000000</td>\n",
       "      <td>34.000000</td>\n",
       "    </tr>\n",
       "    <tr>\n",
       "      <th rowspan=\"8\" valign=\"top\">virginica</th>\n",
       "      <th>count</th>\n",
       "      <td>50.000000</td>\n",
       "      <td>50.000000</td>\n",
       "      <td>50.000000</td>\n",
       "      <td>50.000000</td>\n",
       "    </tr>\n",
       "    <tr>\n",
       "      <th>mean</th>\n",
       "      <td>55.520000</td>\n",
       "      <td>20.060000</td>\n",
       "      <td>65.880000</td>\n",
       "      <td>29.740000</td>\n",
       "    </tr>\n",
       "    <tr>\n",
       "      <th>std</th>\n",
       "      <td>5.518947</td>\n",
       "      <td>2.902567</td>\n",
       "      <td>6.358796</td>\n",
       "      <td>3.224966</td>\n",
       "    </tr>\n",
       "    <tr>\n",
       "      <th>min</th>\n",
       "      <td>45.000000</td>\n",
       "      <td>13.000000</td>\n",
       "      <td>49.000000</td>\n",
       "      <td>22.000000</td>\n",
       "    </tr>\n",
       "    <tr>\n",
       "      <th>25%</th>\n",
       "      <td>51.000000</td>\n",
       "      <td>18.000000</td>\n",
       "      <td>62.250000</td>\n",
       "      <td>28.000000</td>\n",
       "    </tr>\n",
       "    <tr>\n",
       "      <th>50%</th>\n",
       "      <td>55.500000</td>\n",
       "      <td>20.000000</td>\n",
       "      <td>65.000000</td>\n",
       "      <td>30.000000</td>\n",
       "    </tr>\n",
       "    <tr>\n",
       "      <th>75%</th>\n",
       "      <td>58.750000</td>\n",
       "      <td>22.750000</td>\n",
       "      <td>69.000000</td>\n",
       "      <td>31.750000</td>\n",
       "    </tr>\n",
       "    <tr>\n",
       "      <th>max</th>\n",
       "      <td>69.000000</td>\n",
       "      <td>25.000000</td>\n",
       "      <td>79.000000</td>\n",
       "      <td>38.000000</td>\n",
       "    </tr>\n",
       "  </tbody>\n",
       "</table>\n",
       "</div>"
      ],
      "text/plain": [
       "                  Petal_Length  Petal_Width  Sepal_Length  Sepal_Width\n",
       "Type                                                                  \n",
       "setosa     count     50.000000    50.000000     50.000000    50.000000\n",
       "           mean      14.620000     2.460000     50.100000    34.280000\n",
       "           std        1.736640     1.053856      3.535534     3.790644\n",
       "           min       10.000000     1.000000     43.000000    23.000000\n",
       "           25%       14.000000     2.000000     48.000000    32.000000\n",
       "           50%       15.000000     2.000000     50.000000    34.000000\n",
       "           75%       15.750000     3.000000     52.000000    36.750000\n",
       "           max       19.000000     6.000000     58.000000    44.000000\n",
       "versicolor count     50.000000    50.000000     50.000000    50.000000\n",
       "           mean      43.220000    13.260000     59.360000    27.640000\n",
       "           std        5.361579     1.977527      5.161711     3.141298\n",
       "           min       30.000000    10.000000     49.000000    20.000000\n",
       "           25%       40.000000    12.000000     56.000000    25.250000\n",
       "           50%       44.000000    13.000000     59.000000    28.000000\n",
       "           75%       47.000000    15.000000     63.000000    30.000000\n",
       "           max       56.000000    18.000000     70.000000    34.000000\n",
       "virginica  count     50.000000    50.000000     50.000000    50.000000\n",
       "           mean      55.520000    20.060000     65.880000    29.740000\n",
       "           std        5.518947     2.902567      6.358796     3.224966\n",
       "           min       45.000000    13.000000     49.000000    22.000000\n",
       "           25%       51.000000    18.000000     62.250000    28.000000\n",
       "           50%       55.500000    20.000000     65.000000    30.000000\n",
       "           75%       58.750000    22.750000     69.000000    31.750000\n",
       "           max       69.000000    25.000000     79.000000    38.000000"
      ]
     },
     "execution_count": 8,
     "metadata": {},
     "output_type": "execute_result"
    }
   ],
   "source": [
    "grouped_iris.describe(percentiles=[.25, .5, .75], include='all')"
   ]
  },
  {
   "cell_type": "code",
   "execution_count": 77,
   "metadata": {
    "collapsed": false
   },
   "outputs": [
    {
     "data": {
      "text/plain": [
       "Type\n",
       "setosa        Axes(0.125,0.125;0.775x0.775)\n",
       "versicolor    Axes(0.125,0.125;0.775x0.775)\n",
       "virginica     Axes(0.125,0.125;0.775x0.775)\n",
       "Name: Petal_Width, dtype: object"
      ]
     },
     "execution_count": 77,
     "metadata": {},
     "output_type": "execute_result"
    },
    {
     "data": {
      "image/png": "[encoded data removed]",
      "text/plain": [
       "<matplotlib.figure.Figure at 0x12aa258d0>"
      ]
     },
     "metadata": {},
     "output_type": "display_data"
    }
   ],
   "source": [
    "grouped_iris['Petal_Width'].hist()"
   ]
  },
  {
   "cell_type": "code",
   "execution_count": 9,
   "metadata": {
    "collapsed": false,
    "scrolled": false
   },
   "outputs": [
    {
     "data": {
      "text/plain": [
       "<seaborn.axisgrid.PairGrid at 0x11ba9eef0>"
      ]
     },
     "execution_count": 9,
     "metadata": {},
     "output_type": "execute_result"
    },
    {
     "data": {
      "image/png": "[encoded data removed]",
      "text/plain": [
       "<matplotlib.figure.Figure at 0x11ba9e780>"
      ]
     },
     "metadata": {},
     "output_type": "display_data"
    }
   ],
   "source": [
    "sns.pairplot(dataset, kind='reg', hue='Type')"
   ]
  },
  {
   "cell_type": "markdown",
   "metadata": {},
   "source": [
    "  "
   ]
  },
  {
   "cell_type": "markdown",
   "metadata": {},
   "source": [
    "**Data Extraction**"
   ]
  },
  {
   "cell_type": "code",
   "execution_count": 10,
   "metadata": {
    "collapsed": false
   },
   "outputs": [
    {
     "data": {
      "text/plain": [
       "<pandas.core.groupby.SeriesGroupBy object at 0x128263e10>"
      ]
     },
     "execution_count": 10,
     "metadata": {},
     "output_type": "execute_result"
    }
   ],
   "source": [
    "grouped_iris['Type'] # .groupby function returns a GroupBy object that is lazily executed"
   ]
  },
  {
   "cell_type": "code",
   "execution_count": 13,
   "metadata": {
    "collapsed": false
   },
   "outputs": [
    {
     "data": {
      "text/html": [
       "<div>\n",
       "<table border=\"1\" class=\"dataframe\">\n",
       "  <thead>\n",
       "    <tr style=\"text-align: right;\">\n",
       "      <th></th>\n",
       "      <th>Type</th>\n",
       "      <th>Petal_Width</th>\n",
       "      <th>Petal_Length</th>\n",
       "      <th>Sepal_Width</th>\n",
       "      <th>Sepal_Length</th>\n",
       "    </tr>\n",
       "  </thead>\n",
       "  <tbody>\n",
       "    <tr>\n",
       "      <th>0</th>\n",
       "      <td>setosa</td>\n",
       "      <td>2</td>\n",
       "      <td>14</td>\n",
       "      <td>33</td>\n",
       "      <td>50</td>\n",
       "    </tr>\n",
       "    <tr>\n",
       "      <th>3</th>\n",
       "      <td>setosa</td>\n",
       "      <td>2</td>\n",
       "      <td>10</td>\n",
       "      <td>36</td>\n",
       "      <td>46</td>\n",
       "    </tr>\n",
       "    <tr>\n",
       "      <th>10</th>\n",
       "      <td>setosa</td>\n",
       "      <td>2</td>\n",
       "      <td>16</td>\n",
       "      <td>31</td>\n",
       "      <td>48</td>\n",
       "    </tr>\n",
       "    <tr>\n",
       "      <th>12</th>\n",
       "      <td>setosa</td>\n",
       "      <td>1</td>\n",
       "      <td>14</td>\n",
       "      <td>36</td>\n",
       "      <td>49</td>\n",
       "    </tr>\n",
       "    <tr>\n",
       "      <th>13</th>\n",
       "      <td>setosa</td>\n",
       "      <td>2</td>\n",
       "      <td>13</td>\n",
       "      <td>32</td>\n",
       "      <td>44</td>\n",
       "    </tr>\n",
       "    <tr>\n",
       "      <th>17</th>\n",
       "      <td>setosa</td>\n",
       "      <td>2</td>\n",
       "      <td>16</td>\n",
       "      <td>38</td>\n",
       "      <td>51</td>\n",
       "    </tr>\n",
       "    <tr>\n",
       "      <th>18</th>\n",
       "      <td>setosa</td>\n",
       "      <td>2</td>\n",
       "      <td>16</td>\n",
       "      <td>30</td>\n",
       "      <td>50</td>\n",
       "    </tr>\n",
       "    <tr>\n",
       "      <th>20</th>\n",
       "      <td>setosa</td>\n",
       "      <td>4</td>\n",
       "      <td>19</td>\n",
       "      <td>38</td>\n",
       "      <td>51</td>\n",
       "    </tr>\n",
       "    <tr>\n",
       "      <th>21</th>\n",
       "      <td>setosa</td>\n",
       "      <td>2</td>\n",
       "      <td>14</td>\n",
       "      <td>30</td>\n",
       "      <td>49</td>\n",
       "    </tr>\n",
       "    <tr>\n",
       "      <th>24</th>\n",
       "      <td>setosa</td>\n",
       "      <td>2</td>\n",
       "      <td>14</td>\n",
       "      <td>36</td>\n",
       "      <td>50</td>\n",
       "    </tr>\n",
       "  </tbody>\n",
       "</table>\n",
       "</div>"
      ],
      "text/plain": [
       "      Type  Petal_Width  Petal_Length  Sepal_Width  Sepal_Length\n",
       "0   setosa            2            14           33            50\n",
       "3   setosa            2            10           36            46\n",
       "10  setosa            2            16           31            48\n",
       "12  setosa            1            14           36            49\n",
       "13  setosa            2            13           32            44\n",
       "17  setosa            2            16           38            51\n",
       "18  setosa            2            16           30            50\n",
       "20  setosa            4            19           38            51\n",
       "21  setosa            2            14           30            49\n",
       "24  setosa            2            14           36            50"
      ]
     },
     "execution_count": 13,
     "metadata": {},
     "output_type": "execute_result"
    }
   ],
   "source": [
    "dataset[dataset['Type']=='setosa'].head(n=10) # Better to use the original dataset"
   ]
  },
  {
   "cell_type": "code",
   "execution_count": 14,
   "metadata": {
    "collapsed": false
   },
   "outputs": [
    {
     "data": {
      "text/plain": [
       "0     14\n",
       "3     10\n",
       "10    16\n",
       "12    14\n",
       "13    13\n",
       "17    16\n",
       "18    16\n",
       "20    19\n",
       "21    14\n",
       "24    14\n",
       "Name: Petal_Length, dtype: int64"
      ]
     },
     "execution_count": 14,
     "metadata": {},
     "output_type": "execute_result"
    }
   ],
   "source": [
    "dataset[dataset['Type']=='setosa']['Petal_Length'].head(n=10)"
   ]
  },
  {
   "cell_type": "code",
   "execution_count": 27,
   "metadata": {
    "collapsed": true
   },
   "outputs": [],
   "source": [
    "pl_setosa = dataset[dataset['Type']=='setosa']['Petal_Length']\n",
    "pl_virginica = dataset[dataset['Type']=='virginica']['Petal_Length']\n",
    "pl_versicolor = dataset[dataset['Type']=='versicolor']['Petal_Length']"
   ]
  },
  {
   "cell_type": "code",
   "execution_count": 28,
   "metadata": {
    "collapsed": false
   },
   "outputs": [],
   "source": [
    "pw_setosa = dataset[dataset['Type']=='setosa']['Petal_Width']\n",
    "pw_virginica = dataset[dataset['Type']=='virginica']['Petal_Width']\n",
    "pw_versicolor = dataset[dataset['Type']=='versicolor']['Petal_Width']\n",
    "\n",
    "sl_setosa = dataset[dataset['Type']=='setosa']['Sepal_Length']\n",
    "sl_virginica = dataset[dataset['Type']=='virginica']['Sepal_Length']\n",
    "sl_versicolor = dataset[dataset['Type']=='versicolor']['Sepal_Length']\n",
    "\n",
    "sw_setosa = dataset[dataset['Type']=='setosa']['Sepal_Width']\n",
    "sw_virginica = dataset[dataset['Type']=='virginica']['Sepal_Width']\n",
    "sw_versicolor = dataset[dataset['Type']=='versicolor']['Sepal_Width']"
   ]
  },
  {
   "cell_type": "code",
   "execution_count": 85,
   "metadata": {
    "collapsed": false
   },
   "outputs": [
    {
     "data": {
      "text/plain": [
       "pandas.core.series.Series"
      ]
     },
     "execution_count": 85,
     "metadata": {},
     "output_type": "execute_result"
    }
   ],
   "source": [
    "type(sw_setosa)"
   ]
  },
  {
   "cell_type": "code",
   "execution_count": 84,
   "metadata": {
    "collapsed": false,
    "scrolled": true
   },
   "outputs": [
    {
     "data": {
      "text/plain": [
       "<matplotlib.legend.Legend at 0x12cd01668>"
      ]
     },
     "execution_count": 84,
     "metadata": {},
     "output_type": "execute_result"
    },
    {
     "data": {
      "image/png": "[encoded data removed]",
      "text/plain": [
       "<matplotlib.figure.Figure at 0x12cd01320>"
      ]
     },
     "metadata": {},
     "output_type": "display_data"
    }
   ],
   "source": [
    "plt.hist(sw_versicolor, label='Versicolor', alpha=0.5)\n",
    "plt.hist(sw_virginica, label='Virginica', alpha=0.5)\n",
    "plt.hist(sw_setosa, label='Setosa', alpha=0.5)\n",
    "plt.legend(loc='best')"
   ]
  },
  {
   "cell_type": "markdown",
   "metadata": {},
   "source": [
    "  "
   ]
  },
  {
   "cell_type": "markdown",
   "metadata": {},
   "source": [
    "**Normality Testing**"
   ]
  },
  {
   "cell_type": "code",
   "execution_count": 37,
   "metadata": {
    "collapsed": false
   },
   "outputs": [
    {
     "data": {
      "text/plain": [
       "KstestResult(statistic=1.0, pvalue=7.4401519520415657e-44)"
      ]
     },
     "execution_count": 37,
     "metadata": {},
     "output_type": "execute_result"
    }
   ],
   "source": [
    "# Kolmogorov-Smirnov test: Fairly conservative\n",
    "ks_pl_setosa = stats.kstest(pl_setosa, 'norm', mode='asymp') # mode opts: 'approx'. Dist can be any in scipy.stats\n",
    "ks_pl_setosa"
   ]
  },
  {
   "cell_type": "code",
   "execution_count": 33,
   "metadata": {
    "collapsed": false
   },
   "outputs": [
    {
     "data": {
      "text/plain": [
       "8.65842082475865e-07"
      ]
     },
     "execution_count": 33,
     "metadata": {},
     "output_type": "execute_result"
    }
   ],
   "source": [
    "# Shapiro test\n",
    "shapiro_pw_setosa , p_shapiro_pw_setosa = stats.shapiro(pw_setosa)\n",
    "p_shapiro_pw_setosa"
   ]
  },
  {
   "cell_type": "code",
   "execution_count": 40,
   "metadata": {
    "collapsed": false
   },
   "outputs": [
    {
     "name": "stdout",
     "output_type": "stream",
     "text": [
      "NormaltestResult(statistic=0.16963916001883134, pvalue=0.91867801732947774)\n"
     ]
    },
    {
     "data": {
      "text/plain": [
       "0.91867801732947774"
      ]
     },
     "execution_count": 40,
     "metadata": {},
     "output_type": "execute_result"
    }
   ],
   "source": [
    "# Normal test: Combines skew and kurtosis measurement. Allows management of NaN\n",
    "nt_sl_setosa , p_nt_sl_setosa = stats.normaltest(sl_setosa, nan_policy='omit') #nan_policy opts: 'propagate', 'raise'\n",
    "p_nt_sl_setosa"
   ]
  },
  {
   "cell_type": "code",
   "execution_count": 42,
   "metadata": {
    "collapsed": false
   },
   "outputs": [
    {
     "data": {
      "text/plain": [
       "AndersonResult(statistic=0.49095595829555094, critical_values=array([ 0.538,  0.613,  0.736,  0.858,  1.021]), significance_level=array([ 15. ,  10. ,   5. ,   2.5,   1. ]))"
      ]
     },
     "execution_count": 42,
     "metadata": {},
     "output_type": "execute_result"
    }
   ],
   "source": [
    "# Anderson test: Modified KS, returns critical values for a list of significance levels\n",
    "anderson_sw_setosa = stats.anderson(sw_setosa, dist='norm')\n",
    "anderson_sw_setosa"
   ]
  },
  {
   "cell_type": "markdown",
   "metadata": {},
   "source": [
    "  "
   ]
  },
  {
   "cell_type": "markdown",
   "metadata": {},
   "source": [
    "**Homogeneity of Variance**"
   ]
  },
  {
   "cell_type": "code",
   "execution_count": 49,
   "metadata": {
    "collapsed": false
   },
   "outputs": [
    {
     "name": "stdout",
     "output_type": "stream",
     "text": [
      "BartlettResult(statistic=0.06998884643065259, pvalue=0.79135302036607358)\n"
     ]
    }
   ],
   "source": [
    "# Bartlett test: Requires normal populations\n",
    "bartlett_length_versicolor = stats.bartlett(pl_versicolor, sl_versicolor)\n",
    "print(bartlett_length_versicolor)"
   ]
  },
  {
   "cell_type": "code",
   "execution_count": 67,
   "metadata": {
    "collapsed": false
   },
   "outputs": [
    {
     "name": "stdout",
     "output_type": "stream",
     "text": [
      "LeveneResult(statistic=0.71972120076152502, pvalue=0.39848610124812711)\n"
     ]
    }
   ],
   "source": [
    "# Levene test: more robust than Bartlett if samples are non-normal. Can define what central tendency measure is used\n",
    "levene_length_virginica = stats.levene(pl_virginica, sl_virginica, center='trimmed') # For heavy-tailed distributions\n",
    "print(levene_length_virginica)"
   ]
  },
  {
   "cell_type": "code",
   "execution_count": 64,
   "metadata": {
    "collapsed": false
   },
   "outputs": [
    {
     "name": "stdout",
     "output_type": "stream",
     "text": [
      "FlignerResult(statistic=0.74804158639800178, pvalue=0.38709698530962411)\n"
     ]
    }
   ],
   "source": [
    "# Fligner-Killeen's test: Non-parametric\n",
    "fk_length_setosa = stats.fligner(pl_virginica, sl_virginica, center='mean') # For normal distributions\n",
    "                                                                            # Use 'median' for skewed distributions\n",
    "print(fk_length_setosa)"
   ]
  },
  {
   "cell_type": "markdown",
   "metadata": {},
   "source": [
    "  "
   ]
  },
  {
   "cell_type": "markdown",
   "metadata": {},
   "source": [
    "**Comparing 2 samples of a continuous measure: Parametric tests**  \n",
    "*t*-tests"
   ]
  },
  {
   "cell_type": "code",
   "execution_count": 86,
   "metadata": {
    "collapsed": false
   },
   "outputs": [
    {
     "name": "stdout",
     "output_type": "stream",
     "text": [
      "Ttest_indResult(statistic=9.537093207617902, pvalue=1.224078036914692e-15)\n"
     ]
    }
   ],
   "source": [
    "# t-test of 2 independent samples\n",
    "ttest_sw_set_ver = stats.ttest_ind(sw_setosa, sw_versicolor, equal_var=True, nan_policy='omit') # equal_var default: T\n",
    "print(ttest_sw_set_ver)"
   ]
  },
  {
   "cell_type": "code",
   "execution_count": 96,
   "metadata": {
    "collapsed": false
   },
   "outputs": [
    {
     "name": "stdout",
     "output_type": "stream",
     "text": [
      "Ttest_relResult(statistic=-60.967252469790083, pvalue=7.2123650873483171e-48)\n"
     ]
    }
   ],
   "source": [
    "# t-test of paired samples\n",
    "ttest_width_setosa = stats.ttest_rel(pw_setosa, sw_setosa, nan_policy='omit')\n",
    "print(ttest_width_setosa)"
   ]
  },
  {
   "cell_type": "code",
   "execution_count": 110,
   "metadata": {
    "collapsed": false
   },
   "outputs": [
    {
     "name": "stdout",
     "output_type": "stream",
     "text": [
      "Ttest_indResult(statistic=13.693360262604701, pvalue=2.3071043100383677e-23)\n"
     ]
    }
   ],
   "source": [
    "# t-test from descriptive statistics: mean, SD, n from each sample\n",
    "ttest_pw_vir_ver = stats.ttest_ind_from_stats(20.06, 2.902, 50, 13.26, 1.977, 50, equal_var=False)\n",
    "print(ttest_pw_vir_ver)"
   ]
  },
  {
   "cell_type": "code",
   "execution_count": 277,
   "metadata": {
    "collapsed": false
   },
   "outputs": [
    {
     "name": "stdout",
     "output_type": "stream",
     "text": [
      "Cohen's d:  1.90741864152\n"
     ]
    }
   ],
   "source": [
    "# Effect sizes: Cohen's d\n",
    "# Calculate pooled STD\n",
    "std_sw_set_ver = np.sqrt( ( (sw_setosa.size-1)*(sw_setosa.std()**2) + (sw_versicolor.size-1)*(sw_versicolor.std()**2) ) \n",
    "                         / (sw_setosa.size + sw_versicolor.size - 2) )\n",
    "# Calculate Cohen's d\n",
    "cohend_sw_set_ver = (sw_setosa.mean() - sw_versicolor.mean()) / std_sw_set_ver\n",
    "print('Cohen\\'s d: ', cohend_sw_set_ver) # d=0.2 small effect size, 0.5 medium, 0.8 large"
   ]
  },
  {
   "cell_type": "markdown",
   "metadata": {},
   "source": [
    "Pearson's correlation coefficient can also be used as a measure of effect size (see below)"
   ]
  },
  {
   "cell_type": "code",
   "execution_count": 111,
   "metadata": {
    "collapsed": false
   },
   "outputs": [
    {
     "data": {
      "text/plain": [
       "0.0"
      ]
     },
     "execution_count": 111,
     "metadata": {},
     "output_type": "execute_result"
    }
   ],
   "source": [
    "1-stats.norm.cdf(ttest_pw_vir_ver[0]) # one-side p-value if I know the test value"
   ]
  },
  {
   "cell_type": "code",
   "execution_count": 112,
   "metadata": {
    "collapsed": false
   },
   "outputs": [
    {
     "data": {
      "text/plain": [
       "-9.8896973263769148"
      ]
     },
     "execution_count": 112,
     "metadata": {},
     "output_type": "execute_result"
    }
   ],
   "source": [
    "stats.norm.ppf(ttest_pw_vir_ver[1]) # What is the test value given the p-value"
   ]
  },
  {
   "cell_type": "markdown",
   "metadata": {},
   "source": [
    "  "
   ]
  },
  {
   "cell_type": "markdown",
   "metadata": {},
   "source": [
    "**Comparing 2 samples of a continuous measure: Non-Parametric tests**  \n",
    "Wilcoxon rank-sum  \n",
    "Mann-Whitney U  \n",
    "Wilcoxon"
   ]
  },
  {
   "cell_type": "code",
   "execution_count": 114,
   "metadata": {
    "collapsed": false
   },
   "outputs": [
    {
     "name": "stdout",
     "output_type": "stream",
     "text": [
      "RanksumsResult(statistic=7.3246836176731822, pvalue=2.3946298129041661e-13)\n"
     ]
    }
   ],
   "source": [
    "# Wilcoxon rank-sum test: Can use if n < 20\n",
    "wrk_sw_set_ver = stats.ranksums(sw_setosa, sw_versicolor)\n",
    "print(wrk_sw_set_ver)"
   ]
  },
  {
   "cell_type": "code",
   "execution_count": 118,
   "metadata": {
    "collapsed": false
   },
   "outputs": [
    {
     "name": "stdout",
     "output_type": "stream",
     "text": [
      "MannwhitneyuResult(statistic=2312.5, pvalue=1.048170076223835e-13)\n"
     ]
    }
   ],
   "source": [
    "# Mann-Whitney U test: More robust than Wilcoxon rank-sum, use if n > 20\n",
    "mwu_sw_set_ver = stats.mannwhitneyu(sw_setosa, sw_versicolor, use_continuity=True, alternative='greater')\n",
    "                                    # alternative options: 'less', 'two-sided'. 'None' is deprecated\n",
    "print(mwu_sw_set_ver)"
   ]
  },
  {
   "cell_type": "code",
   "execution_count": 119,
   "metadata": {
    "collapsed": false
   },
   "outputs": [
    {
     "name": "stdout",
     "output_type": "stream",
     "text": [
      "WilcoxonResult(statistic=0.0, pvalue=7.0773454358295904e-10)\n"
     ]
    }
   ],
   "source": [
    "# Wilcoxon test: For paired samples\n",
    "wilcoxon_width_setosa = stats.wilcoxon(pw_setosa, sw_setosa, zero_method='wilcox', correction=False)\n",
    "                        # zero_method is how zero-differences are handled. Options: 'pratt', 'zsplit'\n",
    "                        # correction is if statistic is corrected towards the mean during calculation. Default: F\n",
    "print(wilcoxon_width_setosa)"
   ]
  },
  {
   "cell_type": "markdown",
   "metadata": {},
   "source": [
    "  "
   ]
  },
  {
   "cell_type": "markdown",
   "metadata": {},
   "source": [
    "**Comparing multiple groups**  \n",
    "ANOVA  \n",
    "Kruskal-Wallis H"
   ]
  },
  {
   "cell_type": "code",
   "execution_count": 120,
   "metadata": {
    "collapsed": false
   },
   "outputs": [
    {
     "name": "stdout",
     "output_type": "stream",
     "text": [
      "F_onewayResult(statistic=49.882289862245315, pvalue=2.9176735951043499e-17)\n"
     ]
    }
   ],
   "source": [
    "# 1-way ANOVA: Parametric\n",
    "anova_sw = stats.f_oneway(sw_setosa, sw_versicolor, sw_virginica)\n",
    "print(anova_sw)"
   ]
  },
  {
   "cell_type": "markdown",
   "metadata": {},
   "source": [
    "*What about post-*hoc* tests, DF, and other results?*  \n",
    "Not available in the Scipy.stats implementation  \n",
    "Use of linear regression with the **statsmodels** module allows access to some of that data  "
   ]
  },
  {
   "cell_type": "code",
   "execution_count": 121,
   "metadata": {
    "collapsed": false
   },
   "outputs": [
    {
     "name": "stdout",
     "output_type": "stream",
     "text": [
      "KruskalResult(statistic=63.92045179729184, pvalue=1.3178022715901975e-14)\n"
     ]
    }
   ],
   "source": [
    "# Kruskal-Wallis H test: Non-parametric\n",
    "kw_sw = stats.kruskal(sw_setosa, sw_versicolor, sw_virginica, nan_policy='omit')\n",
    "print(kw_sw)"
   ]
  },
  {
   "cell_type": "markdown",
   "metadata": {},
   "source": [
    "  "
   ]
  },
  {
   "cell_type": "markdown",
   "metadata": {},
   "source": [
    "**Contingency Tables**  \n",
    "Chi square  \n",
    "Fisher's exact test"
   ]
  },
  {
   "cell_type": "code",
   "execution_count": 162,
   "metadata": {
    "collapsed": false
   },
   "outputs": [
    {
     "data": {
      "text/html": [
       "<div>\n",
       "<table border=\"1\" class=\"dataframe\">\n",
       "  <thead>\n",
       "    <tr style=\"text-align: right;\">\n",
       "      <th>Sepal_Width</th>\n",
       "      <th>False</th>\n",
       "      <th>True</th>\n",
       "    </tr>\n",
       "    <tr>\n",
       "      <th>Petal_Width</th>\n",
       "      <th></th>\n",
       "      <th></th>\n",
       "    </tr>\n",
       "  </thead>\n",
       "  <tbody>\n",
       "    <tr>\n",
       "      <th>False</th>\n",
       "      <td>18</td>\n",
       "      <td>42</td>\n",
       "    </tr>\n",
       "    <tr>\n",
       "      <th>True</th>\n",
       "      <td>65</td>\n",
       "      <td>25</td>\n",
       "    </tr>\n",
       "  </tbody>\n",
       "</table>\n",
       "</div>"
      ],
      "text/plain": [
       "Sepal_Width  False  True \n",
       "Petal_Width              \n",
       "False           18     42\n",
       "True            65     25"
      ]
     },
     "execution_count": 162,
     "metadata": {},
     "output_type": "execute_result"
    }
   ],
   "source": [
    "# Create contingency table from counts of big and small petal width and sepal width using the mean as cutoff\n",
    "mean_pw = dataset['Petal_Width'].mean()\n",
    "mean_sw = dataset['Sepal_Width'].mean()\n",
    "\n",
    "width_table = pd.crosstab(dataset.Petal_Width > mean_pw, dataset.Sepal_Width > mean_sw)\n",
    "width_table"
   ]
  },
  {
   "cell_type": "code",
   "execution_count": 160,
   "metadata": {
    "collapsed": false
   },
   "outputs": [
    {
     "name": "stdout",
     "output_type": "stream",
     "text": [
      "(25.966552778277293, 3.4738402544607441e-07, 1, array([[ 33.2,  26.8],\n",
      "       [ 49.8,  40.2]]))\n",
      "\n",
      "\n",
      " Chi-square value:  25.9665527783 \n",
      " p-value:  3.47384025446e-07 \n",
      " Degrees of freedom:  1 \n",
      " Expected frequencies:  [[ 33.2  26.8]\n",
      " [ 49.8  40.2]] \n",
      "\n"
     ]
    }
   ],
   "source": [
    "# Chi square: Requires a matrix composed of individual arrays or a pd.crosstab result as input \n",
    "chi2_width = stats.chi2_contingency(width_table, correction=False) # Correction: Yates'\n",
    "                                     # Another optional argument: lambda_='pearson'/'log-likelihood'/'freeman-tukey'/\n",
    "                                     # 'mod-log-likelihood'/'neyman'/'cressie-read'\n",
    "                                     # lambda_ default is None which computes Pearson's chi2\n",
    "print(chi2_width)\n",
    "print('\\n')\n",
    "print(' Chi-square value: ', chi2_width[0], '\\n',\n",
    "      'p-value: ', chi2_width[1], '\\n',\n",
    "      'Degrees of freedom: ', chi2_width[2], '\\n',\n",
    "      'Expected frequencies: ', chi2_width[3], '\\n')"
   ]
  },
  {
   "cell_type": "code",
   "execution_count": 176,
   "metadata": {
    "collapsed": false
   },
   "outputs": [
    {
     "name": "stdout",
     "output_type": "stream",
     "text": [
      "(0.16483516483516483, 3.9029557808769575e-07)\n",
      "\n",
      "\n",
      " Odds ratio:  0.164835164835 \n",
      " p-value:  3.90295578088e-07\n"
     ]
    }
   ],
   "source": [
    "# Fisher's exact test: Use if any expected frequency is < 5\n",
    "fisher_width = stats.fisher_exact([[18,42],\n",
    "                                   [65,25]], alternative='two-sided') # alternative options: 'less', 'greater'\n",
    "print(fisher_width)\n",
    "print('\\n')\n",
    "print(' Odds ratio: ', fisher_width[0], '\\n',\n",
    "      'p-value: ', fisher_width[1])"
   ]
  },
  {
   "cell_type": "markdown",
   "metadata": {},
   "source": [
    "  "
   ]
  },
  {
   "cell_type": "markdown",
   "metadata": {},
   "source": [
    "**Correlation**  \n",
    "Pearson's correlation coefficient *r*  \n",
    "Spearman rank-order correlation coefficient *rho*  \n",
    "Point-biserial correlation coefficient  \n",
    "Kendall's Tau"
   ]
  },
  {
   "cell_type": "code",
   "execution_count": 175,
   "metadata": {
    "collapsed": false
   },
   "outputs": [
    {
     "name": "stdout",
     "output_type": "stream",
     "text": [
      "(0.95590189294915928, 1.2082268268081922e-80) \n",
      "\n",
      "Pearson's correlation coefficient:  0.955901892949\n",
      "p-value:  1.20822682681e-80\n"
     ]
    }
   ],
   "source": [
    "# Pearson correlation coefficient: Parametric\n",
    "pearson_petal = stats.pearsonr(dataset['Petal_Width'], dataset['Petal_Length'])\n",
    "print(pearson_petal,'\\n')\n",
    "print('Pearson\\'s correlation coefficient: ', pearson_petal[0])\n",
    "print('p-value: ', pearson_petal[1]) # p-value is not so useful or reliable"
   ]
  },
  {
   "cell_type": "code",
   "execution_count": 180,
   "metadata": {
    "collapsed": false
   },
   "outputs": [
    {
     "name": "stdout",
     "output_type": "stream",
     "text": [
      "SpearmanrResult(correlation=-0.16365863235158412, pvalue=0.045376607241950313)\n"
     ]
    }
   ],
   "source": [
    "# Spearman rank-order correlation coefficient: Non-parametric\n",
    "spearman_sepal = stats.spearmanr(dataset['Sepal_Width'], dataset['Sepal_Length'], nan_policy='omit')\n",
    "print(spearman_sepal)"
   ]
  },
  {
   "cell_type": "code",
   "execution_count": 188,
   "metadata": {
    "collapsed": false
   },
   "outputs": [
    {
     "name": "stdout",
     "output_type": "stream",
     "text": [
      "PointbiserialrResult(correlation=0.60464346950185321, pvalue=2.5402737509749097e-16)\n"
     ]
    }
   ],
   "source": [
    "# Point-biserial correlation coefficient: Measures correlation between a binary and a continuous variable\n",
    "setosa_type = dataset['Type']=='setosa' #Binary variable\n",
    "pbs_setosa_sw = stats.pointbiserialr(setosa_type, dataset['Sepal_Width'])\n",
    "print(pbs_setosa_sw)"
   ]
  },
  {
   "cell_type": "code",
   "execution_count": 190,
   "metadata": {
    "collapsed": false
   },
   "outputs": [
    {
     "name": "stdout",
     "output_type": "stream",
     "text": [
      "KendalltauResult(correlation=0.53611843528832515, pvalue=3.9386864902873068e-08)\n"
     ]
    }
   ],
   "source": [
    "# Kendall's Tau: Non-parametric. Arguments for use: Ordinal data, more robust than Spearman, non-linear relations\n",
    "ktau_versicolor = stats.kendalltau(pw_versicolor, pl_versicolor, initial_lexsort=None, nan_policy='omit') \n",
    "                  # initial_lexsort=False uses quicksort\n",
    "print(ktau_versicolor)"
   ]
  },
  {
   "cell_type": "markdown",
   "metadata": {},
   "source": [
    "  "
   ]
  },
  {
   "cell_type": "markdown",
   "metadata": {},
   "source": [
    "**Linear Regression**"
   ]
  },
  {
   "cell_type": "code",
   "execution_count": 205,
   "metadata": {
    "collapsed": false
   },
   "outputs": [
    {
     "data": {
      "text/plain": [
       "<seaborn.axisgrid.FacetGrid at 0x12b9a8208>"
      ]
     },
     "execution_count": 205,
     "metadata": {},
     "output_type": "execute_result"
    },
    {
     "data": {
      "image/png": "[encoded data removed]",
      "text/plain": [
       "<matplotlib.figure.Figure at 0x12b996c88>"
      ]
     },
     "metadata": {},
     "output_type": "display_data"
    }
   ],
   "source": [
    "# Scatterplot of variables to include in regression\n",
    "sns.lmplot(y='Petal_Width', x='Sepal_Width', data=dataset) # Add hue='Type' to observe subgroups"
   ]
  },
  {
   "cell_type": "code",
   "execution_count": 206,
   "metadata": {
    "collapsed": false
   },
   "outputs": [
    {
     "name": "stdout",
     "output_type": "stream",
     "text": [
      "LinregressResult(slope=-0.63526386357201514, intercept=31.336095245003637, rvalue=-0.36700657444549389, pvalue=3.8460249745576842e-06, stderr=0.13235317105294284)\n"
     ]
    }
   ],
   "source": [
    "# Scipy linear regression using least-squares. Only works for univariate\n",
    "scipy_linreg_width = stats.linregress(dataset['Sepal_Width'], dataset['Petal_Width']) # order of x,y != from lmplot\n",
    "print(scipy_linreg_width)"
   ]
  },
  {
   "cell_type": "markdown",
   "metadata": {},
   "source": [
    "**stats.linregress** provides limited information, and the library lacks a logistic regression function.  \n",
    "Use the **statsmodels** library for regression"
   ]
  },
  {
   "cell_type": "code",
   "execution_count": 43,
   "metadata": {
    "collapsed": true
   },
   "outputs": [],
   "source": [
    "import statsmodels.formula.api as smf \n",
    "# statsmodels has two apis"
   ]
  },
  {
   "cell_type": "code",
   "execution_count": 220,
   "metadata": {
    "collapsed": false,
    "scrolled": false
   },
   "outputs": [
    {
     "data": {
      "text/html": [
       "<table class=\"simpletable\">\n",
       "<caption>OLS Regression Results</caption>\n",
       "<tr>\n",
       "  <th>Dep. Variable:</th>       <td>Petal_Width</td>   <th>  R-squared:         </th> <td>   0.135</td>\n",
       "</tr>\n",
       "<tr>\n",
       "  <th>Model:</th>                   <td>OLS</td>       <th>  Adj. R-squared:    </th> <td>   0.129</td>\n",
       "</tr>\n",
       "<tr>\n",
       "  <th>Method:</th>             <td>Least Squares</td>  <th>  F-statistic:       </th> <td>   23.04</td>\n",
       "</tr>\n",
       "<tr>\n",
       "  <th>Date:</th>             <td>Wed, 05 Oct 2016</td> <th>  Prob (F-statistic):</th> <td>3.85e-06</td>\n",
       "</tr>\n",
       "<tr>\n",
       "  <th>Time:</th>                 <td>14:32:24</td>     <th>  Log-Likelihood:    </th> <td> -505.10</td>\n",
       "</tr>\n",
       "<tr>\n",
       "  <th>No. Observations:</th>      <td>   150</td>      <th>  AIC:               </th> <td>   1014.</td>\n",
       "</tr>\n",
       "<tr>\n",
       "  <th>Df Residuals:</th>          <td>   148</td>      <th>  BIC:               </th> <td>   1020.</td>\n",
       "</tr>\n",
       "<tr>\n",
       "  <th>Df Model:</th>              <td>     1</td>      <th>                     </th>     <td> </td>   \n",
       "</tr>\n",
       "<tr>\n",
       "  <th>Covariance Type:</th>      <td>nonrobust</td>    <th>                     </th>     <td> </td>   \n",
       "</tr>\n",
       "</table>\n",
       "<table class=\"simpletable\">\n",
       "<tr>\n",
       "       <td></td>          <th>coef</th>     <th>std err</th>      <th>t</th>      <th>P>|t|</th> <th>[95.0% Conf. Int.]</th> \n",
       "</tr>\n",
       "<tr>\n",
       "  <th>Intercept</th>   <td>   31.3361</td> <td>    4.085</td> <td>    7.671</td> <td> 0.000</td> <td>   23.264    39.408</td>\n",
       "</tr>\n",
       "<tr>\n",
       "  <th>Sepal_Width</th> <td>   -0.6353</td> <td>    0.132</td> <td>   -4.800</td> <td> 0.000</td> <td>   -0.897    -0.374</td>\n",
       "</tr>\n",
       "</table>\n",
       "<table class=\"simpletable\">\n",
       "<tr>\n",
       "  <th>Omnibus:</th>       <td>12.432</td> <th>  Durbin-Watson:     </th> <td>   1.902</td>\n",
       "</tr>\n",
       "<tr>\n",
       "  <th>Prob(Omnibus):</th> <td> 0.002</td> <th>  Jarque-Bera (JB):  </th> <td>   6.318</td>\n",
       "</tr>\n",
       "<tr>\n",
       "  <th>Skew:</th>          <td> 0.300</td> <th>  Prob(JB):          </th> <td>  0.0425</td>\n",
       "</tr>\n",
       "<tr>\n",
       "  <th>Kurtosis:</th>      <td> 2.193</td> <th>  Cond. No.          </th> <td>    219.</td>\n",
       "</tr>\n",
       "</table>"
      ],
      "text/plain": [
       "<class 'statsmodels.iolib.summary.Summary'>\n",
       "\"\"\"\n",
       "                            OLS Regression Results                            \n",
       "==============================================================================\n",
       "Dep. Variable:            Petal_Width   R-squared:                       0.135\n",
       "Model:                            OLS   Adj. R-squared:                  0.129\n",
       "Method:                 Least Squares   F-statistic:                     23.04\n",
       "Date:                Wed, 05 Oct 2016   Prob (F-statistic):           3.85e-06\n",
       "Time:                        14:32:24   Log-Likelihood:                -505.10\n",
       "No. Observations:                 150   AIC:                             1014.\n",
       "Df Residuals:                     148   BIC:                             1020.\n",
       "Df Model:                           1                                         \n",
       "Covariance Type:            nonrobust                                         \n",
       "===============================================================================\n",
       "                  coef    std err          t      P>|t|      [95.0% Conf. Int.]\n",
       "-------------------------------------------------------------------------------\n",
       "Intercept      31.3361      4.085      7.671      0.000        23.264    39.408\n",
       "Sepal_Width    -0.6353      0.132     -4.800      0.000        -0.897    -0.374\n",
       "==============================================================================\n",
       "Omnibus:                       12.432   Durbin-Watson:                   1.902\n",
       "Prob(Omnibus):                  0.002   Jarque-Bera (JB):                6.318\n",
       "Skew:                           0.300   Prob(JB):                       0.0425\n",
       "Kurtosis:                       2.193   Cond. No.                         219.\n",
       "==============================================================================\n",
       "\n",
       "Warnings:\n",
       "[1] Standard Errors assume that the covariance matrix of the errors is correctly specified.\n",
       "\"\"\""
      ]
     },
     "execution_count": 220,
     "metadata": {},
     "output_type": "execute_result"
    }
   ],
   "source": [
    "reg_width = smf.ols(formula='Petal_Width ~ Sepal_Width', data=dataset)\n",
    "reg_width_model = reg_width.fit()\n",
    "reg_width_model.summary()"
   ]
  },
  {
   "cell_type": "code",
   "execution_count": 221,
   "metadata": {
    "collapsed": false
   },
   "outputs": [
    {
     "name": "stdout",
     "output_type": "stream",
     "text": [
      "                            OLS Regression Results                            \n",
      "==============================================================================\n",
      "Dep. Variable:            Petal_Width   R-squared:                       0.135\n",
      "Model:                            OLS   Adj. R-squared:                  0.129\n",
      "Method:                 Least Squares   F-statistic:                     23.04\n",
      "Date:                Wed, 05 Oct 2016   Prob (F-statistic):           3.85e-06\n",
      "Time:                        14:32:26   Log-Likelihood:                -505.10\n",
      "No. Observations:                 150   AIC:                             1014.\n",
      "Df Residuals:                     148   BIC:                             1020.\n",
      "Df Model:                           1                                         \n",
      "Covariance Type:            nonrobust                                         \n",
      "===============================================================================\n",
      "                  coef    std err          t      P>|t|      [95.0% Conf. Int.]\n",
      "-------------------------------------------------------------------------------\n",
      "Intercept      31.3361      4.085      7.671      0.000        23.264    39.408\n",
      "Sepal_Width    -0.6353      0.132     -4.800      0.000        -0.897    -0.374\n",
      "==============================================================================\n",
      "Omnibus:                       12.432   Durbin-Watson:                   1.902\n",
      "Prob(Omnibus):                  0.002   Jarque-Bera (JB):                6.318\n",
      "Skew:                           0.300   Prob(JB):                       0.0425\n",
      "Kurtosis:                       2.193   Cond. No.                         219.\n",
      "==============================================================================\n",
      "\n",
      "Warnings:\n",
      "[1] Standard Errors assume that the covariance matrix of the errors is correctly specified.\n"
     ]
    }
   ],
   "source": [
    "print(reg_width_model.summary()) # This way is better to obtain warnings"
   ]
  },
  {
   "cell_type": "code",
   "execution_count": 222,
   "metadata": {
    "collapsed": false,
    "scrolled": true
   },
   "outputs": [
    {
     "name": "stdout",
     "output_type": "stream",
     "text": [
      "['HC0_se', 'HC1_se', 'HC2_se', 'HC3_se', '_HCCM', '__class__', '__delattr__', '__dict__', '__dir__', '__doc__', '__eq__', '__format__', '__ge__', '__getattribute__', '__gt__', '__hash__', '__init__', '__le__', '__lt__', '__module__', '__ne__', '__new__', '__reduce__', '__reduce_ex__', '__repr__', '__setattr__', '__sizeof__', '__str__', '__subclasshook__', '__weakref__', '_cache', '_data_attr', '_get_robustcov_results', '_is_nested', '_wexog_singular_values', 'aic', 'bic', 'bse', 'centered_tss', 'compare_f_test', 'compare_lm_test', 'compare_lr_test', 'condition_number', 'conf_int', 'conf_int_el', 'cov_HC0', 'cov_HC1', 'cov_HC2', 'cov_HC3', 'cov_kwds', 'cov_params', 'cov_type', 'df_model', 'df_resid', 'diagn', 'eigenvals', 'el_test', 'ess', 'f_pvalue', 'f_test', 'fittedvalues', 'fvalue', 'get_influence', 'get_robustcov_results', 'initialize', 'k_constant', 'llf', 'load', 'model', 'mse_model', 'mse_resid', 'mse_total', 'nobs', 'normalized_cov_params', 'outlier_test', 'params', 'predict', 'pvalues', 'remove_data', 'resid', 'resid_pearson', 'rsquared', 'rsquared_adj', 'save', 'scale', 'ssr', 'summary', 'summary2', 't_test', 'tvalues', 'uncentered_tss', 'use_t', 'wald_test', 'wresid']\n"
     ]
    }
   ],
   "source": [
    "print( dir(reg_width_model) )"
   ]
  },
  {
   "cell_type": "markdown",
   "metadata": {},
   "source": [
    "To plot residuals, an important quality control step, we need to use the predict() method. This function takes as input a matrix of predictive variables plus a new column for the intercept. To create this compound matrix we need to use the add_constant() function from the other statsmodels api: **statsmodels.api**"
   ]
  },
  {
   "cell_type": "code",
   "execution_count": 229,
   "metadata": {
    "collapsed": false
   },
   "outputs": [],
   "source": [
    "import statsmodels.api as sm\n",
    "\n",
    "pred_var_matrix = dataset['Sepal_Width']\n",
    "pred_var_matrix = sm.add_constant(pred_var_matrix)\n",
    "sm_reg_width = sm.OLS( dataset['Petal_Width'], pred_var_matrix) # Note the difference from smf.ols\n",
    "sm_reg_width_model = sm_reg_width.fit()"
   ]
  },
  {
   "cell_type": "code",
   "execution_count": 280,
   "metadata": {
    "collapsed": false,
    "scrolled": true
   },
   "outputs": [
    {
     "data": {
      "text/plain": [
       "<matplotlib.text.Text at 0x12e4612e8>"
      ]
     },
     "execution_count": 280,
     "metadata": {},
     "output_type": "execute_result"
    },
    {
     "data": {
      "image/png": "[encoded data removed]",
      "text/plain": [
       "<matplotlib.figure.Figure at 0x12e249b00>"
      ]
     },
     "metadata": {},
     "output_type": "display_data"
    }
   ],
   "source": [
    "# Plotting residuals:\n",
    "# Obtain predicted values for dependent variable\n",
    "predicted_values = reg_width_model.predict(pred_var_matrix) # dataset['Sepal_Width'] is not valid input\n",
    "sm_predicted_values = sm_reg_width_model.predict(pred_var_matrix)\n",
    "\n",
    "residuals = dataset['Petal_Width'] - sm_predicted_values\n",
    "normalized_residuals = (residuals - np.mean(residuals)) / np.std(residuals)\n",
    "normalized_predicted = (sm_predicted_values - np.mean(sm_predicted_values)) / np.std(sm_predicted_values)\n",
    "\n",
    "plt.plot(normalized_residuals, normalized_predicted, 'o')\n",
    "plt.xlabel('Standardized Residuals')\n",
    "plt.ylabel('Standardized Predicted Value')"
   ]
  },
  {
   "cell_type": "code",
   "execution_count": 252,
   "metadata": {
    "collapsed": false
   },
   "outputs": [
    {
     "name": "stdout",
     "output_type": "stream",
     "text": [
      "Maximum value of DFBeta:  4862.38601061\n",
      "     dfb_const  dfb_Sepal_Width\n",
      "0     0.083039        -4.844042\n",
      "1     0.083039        -4.844042\n",
      "2     0.083039        -4.844042\n",
      "3     0.330110        -4.844042\n",
      "4     0.083039        -4.844042\n",
      "5     0.082205        -4.795357\n",
      "6     0.082205        -4.795357\n",
      "7     0.082205        -4.795357\n",
      "8     0.082205        -4.795357\n",
      "9     0.082205        -4.795357\n",
      "10    0.083039        -4.844042\n",
      "11    0.082205        -4.795357\n",
      "12    0.330110        -4.844042\n",
      "13    0.083039        -4.844042\n",
      "14    0.082205        -4.795357\n",
      "15    0.082205        -4.795357\n",
      "16    0.083039        -4.844042\n",
      "17    0.326792        -4.795357\n",
      "18    0.083039        -4.844042\n",
      "19    0.083039        -4.844042\n",
      "20    0.082205        -4.795357\n",
      "21    0.083039        -4.844042\n",
      "22    0.082205        -4.795357\n",
      "23    0.082205        -4.795357\n",
      "24    0.330110        -4.844042\n",
      "25    0.082205        -4.795357\n",
      "26    0.082205        -4.795357\n",
      "27    0.083039        -4.844042\n",
      "28    0.083039        -4.844042\n",
      "29    0.082205        -4.795357\n",
      "..         ...              ...\n",
      "120   0.082205        -4.795357\n",
      "121   0.082205        -4.795357\n",
      "122   0.083039        -4.844042\n",
      "123   0.082205        -4.795357\n",
      "124   0.083900        -4.894241\n",
      "125   0.082205        -4.795357\n",
      "126   0.083039        -4.844042\n",
      "127   0.082205        -4.795357\n",
      "128   0.082205        -4.795357\n",
      "129   0.330110        -4.844042\n",
      "130   0.082205        -4.795357\n",
      "131   0.083039        -4.844042\n",
      "132   0.083039        -4.844042\n",
      "133   0.083039        -4.844042\n",
      "134   0.082205        -4.795357\n",
      "135   0.083039        -4.844042\n",
      "136   0.082205        -4.795357\n",
      "137   0.082205        -4.795357\n",
      "138   0.082205        -4.795357\n",
      "139   0.082205        -4.795357\n",
      "140   0.083039        -4.844042\n",
      "141   0.083039        -4.844042\n",
      "142   0.082205        -4.795357\n",
      "143   0.082205        -4.795357\n",
      "144   0.083039        -4.844042\n",
      "145   0.082205        -4.795357\n",
      "146   0.082205        -4.795357\n",
      "147   0.083039        -4.844042\n",
      "148   0.330110        -4.844042\n",
      "149   0.326792        -4.795357\n",
      "\n",
      "[150 rows x 2 columns]\n"
     ]
    }
   ],
   "source": [
    "influence = sm_reg_width_model.get_influence()\n",
    "influence_dbetas = influence.summary_frame().filter(regex='dfb')\n",
    "print(influence_dbetas)"
   ]
  },
  {
   "cell_type": "code",
   "execution_count": 255,
   "metadata": {
    "collapsed": false
   },
   "outputs": [
    {
     "name": "stdout",
     "output_type": "stream",
     "text": [
      "Maximum value of DFBeta:  4862.38601061\n"
     ]
    },
    {
     "data": {
      "text/plain": [
       "False"
      ]
     },
     "execution_count": 255,
     "metadata": {},
     "output_type": "execute_result"
    }
   ],
   "source": [
    "influence_max = 2**(np.sqrt(sm_reg_width_model.nobs)) \n",
    "print('Maximum value of DFBeta: ', influence_max)\n",
    "any(influence_dbetas['dfb_Sepal_Width'] > influence_max)"
   ]
  },
  {
   "cell_type": "markdown",
   "metadata": {},
   "source": [
    "  "
   ]
  },
  {
   "cell_type": "markdown",
   "metadata": {},
   "source": [
    "**Logistic Regression**"
   ]
  },
  {
   "cell_type": "code",
   "execution_count": 278,
   "metadata": {
    "collapsed": false
   },
   "outputs": [
    {
     "name": "stdout",
     "output_type": "stream",
     "text": [
      "Optimization terminated successfully.\n",
      "         Current function value: 0.412015\n",
      "         Iterations 7\n",
      "                           Logit Regression Results                           \n",
      "==============================================================================\n",
      "Dep. Variable:                   Type   No. Observations:                  150\n",
      "Model:                          Logit   Df Residuals:                      148\n",
      "Method:                           MLE   Df Model:                            1\n",
      "Date:                Wed, 05 Oct 2016   Pseudo R-squ.:                  0.3527\n",
      "Time:                        23:08:34   Log-Likelihood:                -61.802\n",
      "converged:                       True   LL-Null:                       -95.477\n",
      "                                        LLR p-value:                 2.274e-16\n",
      "===============================================================================\n",
      "                  coef    std err          z      P>|z|      [95.0% Conf. Int.]\n",
      "-------------------------------------------------------------------------------\n",
      "const         -15.6790      2.614     -5.999      0.000       -20.802   -10.556\n",
      "Sepal_Width     0.4779      0.082      5.813      0.000         0.317     0.639\n",
      "===============================================================================\n"
     ]
    }
   ],
   "source": [
    "logregr_setosa_sw = sm.Logit(setosa_type, pred_var_matrix)\n",
    "logregr_setosa_sw_model = logregr_setosa_sw.fit()\n",
    "print(logregr_setosa_sw_model.summary())"
   ]
  },
  {
   "cell_type": "code",
   "execution_count": 313,
   "metadata": {
    "collapsed": false
   },
   "outputs": [
    {
     "data": {
      "text/plain": [
       "<matplotlib.text.Text at 0x12ef70e10>"
      ]
     },
     "execution_count": 313,
     "metadata": {},
     "output_type": "execute_result"
    },
    {
     "data": {
      "image/png": "[encoded data removed]",
      "text/plain": [
       "<matplotlib.figure.Figure at 0x12ee4ccc0>"
      ]
     },
     "metadata": {},
     "output_type": "display_data"
    }
   ],
   "source": [
    "# Plot predicted values vs. data\n",
    "logregr_predicted_values = logregr_setosa_sw_model.predict(pred_var_matrix)\n",
    "plt.plot(dataset['Sepal_Width'], setosa_type, 'o')\n",
    "plt.plot(dataset['Sepal_Width'], logregr_predicted_values,'ok')\n",
    "plt.xlabel('Sepal Width')\n",
    "plt.ylabel('Setosa type')"
   ]
  },
  {
   "cell_type": "code",
   "execution_count": 314,
   "metadata": {
    "collapsed": false
   },
   "outputs": [
    {
     "name": "stdout",
     "output_type": "stream",
     "text": [
      "const          1.551280e-07\n",
      "Sepal_Width    1.612628e+00\n",
      "dtype: float64\n"
     ]
    }
   ],
   "source": [
    "# Calculate odds ratio\n",
    "print(np.exp(logregr_setosa_sw_model.params))"
   ]
  }
 ],
 "metadata": {
  "kernelspec": {
   "display_name": "Python 3",
   "language": "python",
   "name": "python3"
  },
  "language_info": {
   "codemirror_mode": {
    "name": "ipython",
    "version": 3
   },
   "file_extension": ".py",
   "mimetype": "text/x-python",
   "name": "python",
   "nbconvert_exporter": "python",
   "pygments_lexer": "ipython3",
   "version": "3.5.1"
  }
 },
 "nbformat": 4,
 "nbformat_minor": 0
}
